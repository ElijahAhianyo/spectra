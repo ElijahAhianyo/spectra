{
 "cells": [
  {
   "cell_type": "markdown",
   "metadata": {},
   "source": [
    "# `Spectra` Walkthrough\n",
    "\n",
    "This notebook provides basic documentation of the [`spectra` Python library](https://github.com/jsvine/spectra), which aims to simplify the process of creating color scales and converting colors from one \"color space\" to another."
   ]
  },
  {
   "cell_type": "code",
   "execution_count": 1,
   "metadata": {
    "collapsed": false
   },
   "outputs": [],
   "source": [
    "import spectra"
   ]
  },
  {
   "cell_type": "markdown",
   "metadata": {},
   "source": [
    "Note: To visually display the colors we create, let's define and use this `swatches` function:"
   ]
  },
  {
   "cell_type": "code",
   "execution_count": 2,
   "metadata": {
    "collapsed": true
   },
   "outputs": [],
   "source": [
    "from IPython.display import HTML"
   ]
  },
  {
   "cell_type": "code",
   "execution_count": 3,
   "metadata": {
    "collapsed": true
   },
   "outputs": [],
   "source": [
    "swatch_template = \"\"\"\n",
    "<div style=\"float: left;\">\n",
    "    <div style=\"width: 50px; height: 50px; background: {0};\"></div>\n",
    "    <div>{0}</div>\n",
    "</div>\n",
    "\"\"\"\n",
    "swatch_outer = \"\"\"\n",
    "<div style='width: 500px; overflow: auto; font-size: 10px; \n",
    "    font-weight: bold; text-align: center; line-height: 1.5;'>{0}</div>\n",
    "\"\"\""
   ]
  },
  {
   "cell_type": "code",
   "execution_count": 4,
   "metadata": {
    "collapsed": true
   },
   "outputs": [],
   "source": [
    "def swatches(colors):\n",
    "    hexes = (c.hexcode.upper() for c in colors)\n",
    "    html =  swatch_outer.format(\"\".join(map(swatch_template.format, hexes)))\n",
    "    return HTML(html)"
   ]
  },
  {
   "cell_type": "markdown",
   "metadata": {},
   "source": [
    "## Creating Colors\n",
    "\n",
    "The easiest way to create a color is to use these shortcuts, one for each \"color space\" `spectra` supports:\n",
    "\n",
    "- __`spectra.rgb(r, g, b)`__\n",
    "- __`spectra.hsl(h, s, l)`__\n",
    "- __`spectra.hsv(h, s, v)`__\n",
    "- __`spectra.lab(l, a, b)`__\n",
    "- __`spectra.lch(l, c, h)`__\n",
    "- __`spectra.cmy(c, m, y)`__\n",
    "- __`spectra.cmyk(c, m, y, k)`__\n",
    "- __`spectra.xyz(x, y, z)`__\n",
    "\n",
    "You can also pass a WC3 color name (e.g., `\"papayawhip\"`) or hexcode (e.g., `\"#fefefe\"`) to `spectra.html(color)`, which will create the corresponding `rgb` color.\n",
    "\n",
    "For example:"
   ]
  },
  {
   "cell_type": "code",
   "execution_count": 5,
   "metadata": {
    "collapsed": false
   },
   "outputs": [
    {
     "data": {
      "text/html": [
       "\n",
       "<div style='width: 500px; overflow: auto; font-size: 10px; \n",
       "    font-weight: bold; text-align: center; line-height: 1.5;'>\n",
       "<div style=\"float: left;\">\n",
       "    <div style=\"width: 50px; height: 50px; background: #FF6347;\"></div>\n",
       "    <div>#FF6347</div>\n",
       "</div>\n",
       "</div>\n"
      ],
      "text/plain": [
       "<IPython.core.display.HTML object>"
      ]
     },
     "execution_count": 5,
     "metadata": {},
     "output_type": "execute_result"
    }
   ],
   "source": [
    "swatches([ spectra.html(\"tomato\") ])"
   ]
  },
  {
   "cell_type": "code",
   "execution_count": 6,
   "metadata": {
    "collapsed": false
   },
   "outputs": [
    {
     "data": {
      "text/html": [
       "\n",
       "<div style='width: 500px; overflow: auto; font-size: 10px; \n",
       "    font-weight: bold; text-align: center; line-height: 1.5;'>\n",
       "<div style=\"float: left;\">\n",
       "    <div style=\"width: 50px; height: 50px; background: #FF6347;\"></div>\n",
       "    <div>#FF6347</div>\n",
       "</div>\n",
       "</div>\n"
      ],
      "text/plain": [
       "<IPython.core.display.HTML object>"
      ]
     },
     "execution_count": 6,
     "metadata": {},
     "output_type": "execute_result"
    }
   ],
   "source": [
    "swatches([ spectra.rgb(1, 0.39, 0.28) ])"
   ]
  },
  {
   "cell_type": "markdown",
   "metadata": {},
   "source": [
    "## Getting Color Values\n",
    "\n",
    "Instances of `spectra.Color` have four main properties:\n",
    "\n",
    "- __`.values`__: An array representation of the color's values in its own color space, e.g. `(L, a, b)` for an `lab` color.\n",
    "- __`.hexcode`__: The hex encoding of this color, e.g. `#ffffff` for `rgb(255, 255, 255)`/`html(\"white\")`.\n",
    "- __`.rgb`__: The `(r, g, b)` values for this color in the `rgb` color space; these are allowed to go out of gamut.\n",
    "- __`.clamped_rgb`__: The \"clamped\" `(r, g, b)` values for this color in the `rgb` color space.\n",
    "\n",
    "\n",
    "Note on `.rgb` and `.rgb_clamped`: Spectra follows [colormath](http://python-colormath.readthedocs.org/en/latest/conversions.html?highlight=clamp#rgb-conversions-and-out-of-gamut-coordinates)'s convention:\n",
    "\n",
    "> RGB spaces tend to have a smaller gamut than some of the CIE color spaces. When converting to RGB, this can cause some of the coordinates to end up being out of the acceptable range (0.0-1.0 or 1-255, depending on whether your RGB color is upscaled). [...] Rather than clamp these for you, we leave them as-is."
   ]
  },
  {
   "cell_type": "code",
   "execution_count": 7,
   "metadata": {
    "collapsed": true
   },
   "outputs": [],
   "source": [
    "tomato = spectra.lab(62.28, 57.67, 46.29)"
   ]
  },
  {
   "cell_type": "code",
   "execution_count": 8,
   "metadata": {
    "collapsed": false
   },
   "outputs": [
    {
     "data": {
      "text/plain": [
       "(62.28, 57.67, 46.29)"
      ]
     },
     "execution_count": 8,
     "metadata": {},
     "output_type": "execute_result"
    }
   ],
   "source": [
    "tomato.values"
   ]
  },
  {
   "cell_type": "code",
   "execution_count": 9,
   "metadata": {
    "collapsed": false
   },
   "outputs": [
    {
     "data": {
      "text/plain": [
       "(0.9816143351072876, 0.38953937767066, 0.28259874509294824)"
      ]
     },
     "execution_count": 9,
     "metadata": {},
     "output_type": "execute_result"
    }
   ],
   "source": [
    "tomato.rgb"
   ]
  },
  {
   "cell_type": "code",
   "execution_count": 10,
   "metadata": {
    "collapsed": false
   },
   "outputs": [
    {
     "data": {
      "text/plain": [
       "(0.9816143351072876, 0.38953937767066, 0.28259874509294824)"
      ]
     },
     "execution_count": 10,
     "metadata": {},
     "output_type": "execute_result"
    }
   ],
   "source": [
    "tomato.clamped_rgb"
   ]
  },
  {
   "cell_type": "code",
   "execution_count": 11,
   "metadata": {
    "collapsed": false
   },
   "outputs": [
    {
     "data": {
      "text/plain": [
       "'#fa6348'"
      ]
     },
     "execution_count": 11,
     "metadata": {},
     "output_type": "execute_result"
    }
   ],
   "source": [
    "tomato.hexcode"
   ]
  },
  {
   "cell_type": "markdown",
   "metadata": {},
   "source": [
    "## Converting Colors\n",
    "\n",
    "Any `spectra.Color` can be converted to any supported color space, using the __`.to(colorspace)`__ method. E.g.,:"
   ]
  },
  {
   "cell_type": "code",
   "execution_count": 12,
   "metadata": {
    "collapsed": false
   },
   "outputs": [
    {
     "data": {
      "text/plain": [
       "(62.28, 73.94993576738251, 38.75297991115577)"
      ]
     },
     "execution_count": 12,
     "metadata": {},
     "output_type": "execute_result"
    }
   ],
   "source": [
    "tomato.to(\"lch\").values"
   ]
  },
  {
   "cell_type": "markdown",
   "metadata": {},
   "source": [
    "## Color Operations\n",
    "\n",
    "The following `spectra.Color` methods return new colors:\n",
    "\n",
    "- __`.blend(other_color, ratio=0.5)`__\n",
    "- __`.brighten(amount=10)`__\n",
    "- __`.darken(amount=10)`__\n",
    "- __`.saturate(amount=10)`__\n",
    "- __`.desaturate(amount=10)`__\n",
    "\n",
    "The parameter for __.brighten__/__.darken__ is a positive/negative linear adjustment to the `L`(ightness) value of the color's [Lab](http://en.wikipedia.org/wiki/Lab_color_space) representation. (Spectra converts the color to Lab, makes the change, and then converts back to the original color space.)\n",
    "\n",
    "Likewise, the parameter for __.saturate__/__.desaturate__ is a positive/negative linear adjustment to the `c`(hroma) value of the color's [Lch representation](http://en.wikipedia.org/wiki/CIELUV#Cylindrical_representation)."
   ]
  },
  {
   "cell_type": "code",
   "execution_count": 13,
   "metadata": {
    "collapsed": false
   },
   "outputs": [],
   "source": [
    "yellow = spectra.html(\"yellow\").to(\"lab\")"
   ]
  },
  {
   "cell_type": "code",
   "execution_count": 14,
   "metadata": {
    "collapsed": false
   },
   "outputs": [
    {
     "data": {
      "text/plain": [
       "'#fd9042'"
      ]
     },
     "execution_count": 14,
     "metadata": {},
     "output_type": "execute_result"
    }
   ],
   "source": [
    "tomato.blend(yellow, 0.25).hexcode"
   ]
  },
  {
   "cell_type": "code",
   "execution_count": 15,
   "metadata": {
    "collapsed": false
   },
   "outputs": [
    {
     "data": {
      "text/html": [
       "\n",
       "<div style='width: 500px; overflow: auto; font-size: 10px; \n",
       "    font-weight: bold; text-align: center; line-height: 1.5;'>\n",
       "<div style=\"float: left;\">\n",
       "    <div style=\"width: 50px; height: 50px; background: #FA6348;\"></div>\n",
       "    <div>#FA6348</div>\n",
       "</div>\n",
       "\n",
       "<div style=\"float: left;\">\n",
       "    <div style=\"width: 50px; height: 50px; background: #FD9042;\"></div>\n",
       "    <div>#FD9042</div>\n",
       "</div>\n",
       "\n",
       "<div style=\"float: left;\">\n",
       "    <div style=\"width: 50px; height: 50px; background: #FADD24;\"></div>\n",
       "    <div>#FADD24</div>\n",
       "</div>\n",
       "\n",
       "<div style=\"float: left;\">\n",
       "    <div style=\"width: 50px; height: 50px; background: #F3FF00;\"></div>\n",
       "    <div>#F3FF00</div>\n",
       "</div>\n",
       "</div>\n"
      ],
      "text/plain": [
       "<IPython.core.display.HTML object>"
      ]
     },
     "execution_count": 15,
     "metadata": {},
     "output_type": "execute_result"
    }
   ],
   "source": [
    "swatches([\n",
    "    tomato,\n",
    "    tomato.blend(yellow, 0.25),\n",
    "    tomato.blend(yellow, 0.75),\n",
    "    yellow\n",
    "])"
   ]
  },
  {
   "cell_type": "code",
   "execution_count": 16,
   "metadata": {
    "collapsed": false
   },
   "outputs": [
    {
     "data": {
      "text/html": [
       "\n",
       "<div style='width: 500px; overflow: auto; font-size: 10px; \n",
       "    font-weight: bold; text-align: center; line-height: 1.5;'>\n",
       "<div style=\"float: left;\">\n",
       "    <div style=\"width: 50px; height: 50px; background: #FFB894;\"></div>\n",
       "    <div>#FFB894</div>\n",
       "</div>\n",
       "\n",
       "<div style=\"float: left;\">\n",
       "    <div style=\"width: 50px; height: 50px; background: #FA6348;\"></div>\n",
       "    <div>#FA6348</div>\n",
       "</div>\n",
       "\n",
       "<div style=\"float: left;\">\n",
       "    <div style=\"width: 50px; height: 50px; background: #9D0003;\"></div>\n",
       "    <div>#9D0003</div>\n",
       "</div>\n",
       "</div>\n"
      ],
      "text/plain": [
       "<IPython.core.display.HTML object>"
      ]
     },
     "execution_count": 16,
     "metadata": {},
     "output_type": "execute_result"
    }
   ],
   "source": [
    "swatches([\n",
    "    tomato.brighten(30),\n",
    "    tomato,\n",
    "    tomato.darken(30)\n",
    "])"
   ]
  },
  {
   "cell_type": "code",
   "execution_count": 17,
   "metadata": {
    "collapsed": false
   },
   "outputs": [
    {
     "data": {
      "text/html": [
       "\n",
       "<div style='width: 500px; overflow: auto; font-size: 10px; \n",
       "    font-weight: bold; text-align: center; line-height: 1.5;'>\n",
       "<div style=\"float: left;\">\n",
       "    <div style=\"width: 50px; height: 50px; background: #FF0F19;\"></div>\n",
       "    <div>#FF0F19</div>\n",
       "</div>\n",
       "\n",
       "<div style=\"float: left;\">\n",
       "    <div style=\"width: 50px; height: 50px; background: #FA6348;\"></div>\n",
       "    <div>#FA6348</div>\n",
       "</div>\n",
       "\n",
       "<div style=\"float: left;\">\n",
       "    <div style=\"width: 50px; height: 50px; background: #CA8472;\"></div>\n",
       "    <div>#CA8472</div>\n",
       "</div>\n",
       "</div>\n"
      ],
      "text/plain": [
       "<IPython.core.display.HTML object>"
      ]
     },
     "execution_count": 17,
     "metadata": {},
     "output_type": "execute_result"
    }
   ],
   "source": [
    "swatches([\n",
    "    tomato.saturate(40),\n",
    "    tomato,\n",
    "    tomato.desaturate(40)\n",
    "])"
   ]
  },
  {
   "cell_type": "markdown",
   "metadata": {},
   "source": [
    "## Color Scales\n",
    "\n",
    "Color scales translate numbers into colors, based on a set of `colors` and a `domain` (default: 0->1)."
   ]
  },
  {
   "cell_type": "code",
   "execution_count": 18,
   "metadata": {
    "collapsed": false
   },
   "outputs": [
    {
     "data": {
      "text/html": [
       "\n",
       "<div style='width: 500px; overflow: auto; font-size: 10px; \n",
       "    font-weight: bold; text-align: center; line-height: 1.5;'>\n",
       "<div style=\"float: left;\">\n",
       "    <div style=\"width: 50px; height: 50px; background: #21313E;\"></div>\n",
       "    <div>#21313E</div>\n",
       "</div>\n",
       "\n",
       "<div style=\"float: left;\">\n",
       "    <div style=\"width: 50px; height: 50px; background: #EFEE69;\"></div>\n",
       "    <div>#EFEE69</div>\n",
       "</div>\n",
       "</div>\n"
      ],
      "text/plain": [
       "<IPython.core.display.HTML object>"
      ]
     },
     "execution_count": 18,
     "metadata": {},
     "output_type": "execute_result"
    }
   ],
   "source": [
    "start = spectra.html(\"#21313E\")\n",
    "end = spectra.html(\"#EFEE69\")\n",
    "swatches([ start, end ])"
   ]
  },
  {
   "cell_type": "code",
   "execution_count": 19,
   "metadata": {
    "collapsed": false
   },
   "outputs": [],
   "source": [
    "scale = spectra.scale([ start, end ])"
   ]
  },
  {
   "cell_type": "code",
   "execution_count": 20,
   "metadata": {
    "collapsed": false
   },
   "outputs": [
    {
     "data": {
      "text/plain": [
       "<spectra.core.Color at 0x1099ab650>"
      ]
     },
     "execution_count": 20,
     "metadata": {},
     "output_type": "execute_result"
    }
   ],
   "source": [
    "scale(0.5)"
   ]
  },
  {
   "cell_type": "code",
   "execution_count": 21,
   "metadata": {
    "collapsed": false
   },
   "outputs": [
    {
     "data": {
      "text/plain": [
       "'#889054'"
      ]
     },
     "execution_count": 21,
     "metadata": {},
     "output_type": "execute_result"
    }
   ],
   "source": [
    "scale(0.5).hexcode"
   ]
  },
  {
   "cell_type": "code",
   "execution_count": 22,
   "metadata": {
    "collapsed": false
   },
   "outputs": [
    {
     "data": {
      "text/html": [
       "\n",
       "<div style='width: 500px; overflow: auto; font-size: 10px; \n",
       "    font-weight: bold; text-align: center; line-height: 1.5;'>\n",
       "<div style=\"float: left;\">\n",
       "    <div style=\"width: 50px; height: 50px; background: #21313E;\"></div>\n",
       "    <div>#21313E</div>\n",
       "</div>\n",
       "\n",
       "<div style=\"float: left;\">\n",
       "    <div style=\"width: 50px; height: 50px; background: #889054;\"></div>\n",
       "    <div>#889054</div>\n",
       "</div>\n",
       "\n",
       "<div style=\"float: left;\">\n",
       "    <div style=\"width: 50px; height: 50px; background: #EFEE69;\"></div>\n",
       "    <div>#EFEE69</div>\n",
       "</div>\n",
       "</div>\n"
      ],
      "text/plain": [
       "<IPython.core.display.HTML object>"
      ]
     },
     "execution_count": 22,
     "metadata": {},
     "output_type": "execute_result"
    }
   ],
   "source": [
    "swatches([\n",
    "    scale(0),\n",
    "    scale(0.5),\n",
    "    scale(1)\n",
    "])"
   ]
  },
  {
   "cell_type": "markdown",
   "metadata": {},
   "source": [
    "To set a custom domain, call `.domain([ start_num, end_num ])`:"
   ]
  },
  {
   "cell_type": "code",
   "execution_count": 23,
   "metadata": {
    "collapsed": false
   },
   "outputs": [],
   "source": [
    "ten_twenty_scale = scale.domain([ 10, 20 ])"
   ]
  },
  {
   "cell_type": "code",
   "execution_count": 24,
   "metadata": {
    "collapsed": false
   },
   "outputs": [
    {
     "data": {
      "text/html": [
       "\n",
       "<div style='width: 500px; overflow: auto; font-size: 10px; \n",
       "    font-weight: bold; text-align: center; line-height: 1.5;'>\n",
       "<div style=\"float: left;\">\n",
       "    <div style=\"width: 50px; height: 50px; background: #21313E;\"></div>\n",
       "    <div>#21313E</div>\n",
       "</div>\n",
       "\n",
       "<div style=\"float: left;\">\n",
       "    <div style=\"width: 50px; height: 50px; background: #889054;\"></div>\n",
       "    <div>#889054</div>\n",
       "</div>\n",
       "\n",
       "<div style=\"float: left;\">\n",
       "    <div style=\"width: 50px; height: 50px; background: #EFEE69;\"></div>\n",
       "    <div>#EFEE69</div>\n",
       "</div>\n",
       "</div>\n"
      ],
      "text/plain": [
       "<IPython.core.display.HTML object>"
      ]
     },
     "execution_count": 24,
     "metadata": {},
     "output_type": "execute_result"
    }
   ],
   "source": [
    "swatches([\n",
    "    ten_twenty_scale(10),\n",
    "    ten_twenty_scale(15),\n",
    "    ten_twenty_scale(20)\n",
    "])"
   ]
  },
  {
   "cell_type": "markdown",
   "metadata": {},
   "source": [
    "The __`.range(count)`__ method produces an evenly-spaced list of colors:"
   ]
  },
  {
   "cell_type": "code",
   "execution_count": 25,
   "metadata": {
    "collapsed": true
   },
   "outputs": [],
   "source": [
    "my_range = ten_twenty_scale.range(10)"
   ]
  },
  {
   "cell_type": "code",
   "execution_count": 26,
   "metadata": {
    "collapsed": false
   },
   "outputs": [
    {
     "data": {
      "text/plain": [
       "['#21313e',\n",
       " '#384643',\n",
       " '#4f5b48',\n",
       " '#66704c',\n",
       " '#7d8551',\n",
       " '#939a56',\n",
       " '#aaaf5b',\n",
       " '#c1c45f',\n",
       " '#d8d964',\n",
       " '#efee69']"
      ]
     },
     "execution_count": 26,
     "metadata": {},
     "output_type": "execute_result"
    }
   ],
   "source": [
    "[ x.hexcode for x in my_range ]"
   ]
  },
  {
   "cell_type": "code",
   "execution_count": 27,
   "metadata": {
    "collapsed": false
   },
   "outputs": [
    {
     "data": {
      "text/html": [
       "\n",
       "<div style='width: 500px; overflow: auto; font-size: 10px; \n",
       "    font-weight: bold; text-align: center; line-height: 1.5;'>\n",
       "<div style=\"float: left;\">\n",
       "    <div style=\"width: 50px; height: 50px; background: #21313E;\"></div>\n",
       "    <div>#21313E</div>\n",
       "</div>\n",
       "\n",
       "<div style=\"float: left;\">\n",
       "    <div style=\"width: 50px; height: 50px; background: #384643;\"></div>\n",
       "    <div>#384643</div>\n",
       "</div>\n",
       "\n",
       "<div style=\"float: left;\">\n",
       "    <div style=\"width: 50px; height: 50px; background: #4F5B48;\"></div>\n",
       "    <div>#4F5B48</div>\n",
       "</div>\n",
       "\n",
       "<div style=\"float: left;\">\n",
       "    <div style=\"width: 50px; height: 50px; background: #66704C;\"></div>\n",
       "    <div>#66704C</div>\n",
       "</div>\n",
       "\n",
       "<div style=\"float: left;\">\n",
       "    <div style=\"width: 50px; height: 50px; background: #7D8551;\"></div>\n",
       "    <div>#7D8551</div>\n",
       "</div>\n",
       "\n",
       "<div style=\"float: left;\">\n",
       "    <div style=\"width: 50px; height: 50px; background: #939A56;\"></div>\n",
       "    <div>#939A56</div>\n",
       "</div>\n",
       "\n",
       "<div style=\"float: left;\">\n",
       "    <div style=\"width: 50px; height: 50px; background: #AAAF5B;\"></div>\n",
       "    <div>#AAAF5B</div>\n",
       "</div>\n",
       "\n",
       "<div style=\"float: left;\">\n",
       "    <div style=\"width: 50px; height: 50px; background: #C1C45F;\"></div>\n",
       "    <div>#C1C45F</div>\n",
       "</div>\n",
       "\n",
       "<div style=\"float: left;\">\n",
       "    <div style=\"width: 50px; height: 50px; background: #D8D964;\"></div>\n",
       "    <div>#D8D964</div>\n",
       "</div>\n",
       "\n",
       "<div style=\"float: left;\">\n",
       "    <div style=\"width: 50px; height: 50px; background: #EFEE69;\"></div>\n",
       "    <div>#EFEE69</div>\n",
       "</div>\n",
       "</div>\n"
      ],
      "text/plain": [
       "<IPython.core.display.HTML object>"
      ]
     },
     "execution_count": 27,
     "metadata": {},
     "output_type": "execute_result"
    }
   ],
   "source": [
    "swatches(my_range)"
   ]
  },
  {
   "cell_type": "markdown",
   "metadata": {},
   "source": [
    "__`spectra.range(colors, count)`__ provides a shortcut to the same results:"
   ]
  },
  {
   "cell_type": "code",
   "execution_count": 28,
   "metadata": {
    "collapsed": false
   },
   "outputs": [
    {
     "data": {
      "text/html": [
       "\n",
       "<div style='width: 500px; overflow: auto; font-size: 10px; \n",
       "    font-weight: bold; text-align: center; line-height: 1.5;'>\n",
       "<div style=\"float: left;\">\n",
       "    <div style=\"width: 50px; height: 50px; background: #21313E;\"></div>\n",
       "    <div>#21313E</div>\n",
       "</div>\n",
       "\n",
       "<div style=\"float: left;\">\n",
       "    <div style=\"width: 50px; height: 50px; background: #384643;\"></div>\n",
       "    <div>#384643</div>\n",
       "</div>\n",
       "\n",
       "<div style=\"float: left;\">\n",
       "    <div style=\"width: 50px; height: 50px; background: #4F5B48;\"></div>\n",
       "    <div>#4F5B48</div>\n",
       "</div>\n",
       "\n",
       "<div style=\"float: left;\">\n",
       "    <div style=\"width: 50px; height: 50px; background: #66704C;\"></div>\n",
       "    <div>#66704C</div>\n",
       "</div>\n",
       "\n",
       "<div style=\"float: left;\">\n",
       "    <div style=\"width: 50px; height: 50px; background: #7D8551;\"></div>\n",
       "    <div>#7D8551</div>\n",
       "</div>\n",
       "\n",
       "<div style=\"float: left;\">\n",
       "    <div style=\"width: 50px; height: 50px; background: #939A56;\"></div>\n",
       "    <div>#939A56</div>\n",
       "</div>\n",
       "\n",
       "<div style=\"float: left;\">\n",
       "    <div style=\"width: 50px; height: 50px; background: #AAAF5B;\"></div>\n",
       "    <div>#AAAF5B</div>\n",
       "</div>\n",
       "\n",
       "<div style=\"float: left;\">\n",
       "    <div style=\"width: 50px; height: 50px; background: #C1C45F;\"></div>\n",
       "    <div>#C1C45F</div>\n",
       "</div>\n",
       "\n",
       "<div style=\"float: left;\">\n",
       "    <div style=\"width: 50px; height: 50px; background: #D8D964;\"></div>\n",
       "    <div>#D8D964</div>\n",
       "</div>\n",
       "\n",
       "<div style=\"float: left;\">\n",
       "    <div style=\"width: 50px; height: 50px; background: #EFEE69;\"></div>\n",
       "    <div>#EFEE69</div>\n",
       "</div>\n",
       "</div>\n"
      ],
      "text/plain": [
       "<IPython.core.display.HTML object>"
      ]
     },
     "execution_count": 28,
     "metadata": {},
     "output_type": "execute_result"
    }
   ],
   "source": [
    "swatches(spectra.range([ start, end ], 10))"
   ]
  },
  {
   "cell_type": "markdown",
   "metadata": {},
   "source": [
    "You can also pass plain hexcode or web-color strings to `range` and `scale`:"
   ]
  },
  {
   "cell_type": "code",
   "execution_count": 29,
   "metadata": {
    "collapsed": false
   },
   "outputs": [
    {
     "data": {
      "text/html": [
       "\n",
       "<div style='width: 500px; overflow: auto; font-size: 10px; \n",
       "    font-weight: bold; text-align: center; line-height: 1.5;'>\n",
       "<div style=\"float: left;\">\n",
       "    <div style=\"width: 50px; height: 50px; background: #21313E;\"></div>\n",
       "    <div>#21313E</div>\n",
       "</div>\n",
       "\n",
       "<div style=\"float: left;\">\n",
       "    <div style=\"width: 50px; height: 50px; background: #384643;\"></div>\n",
       "    <div>#384643</div>\n",
       "</div>\n",
       "\n",
       "<div style=\"float: left;\">\n",
       "    <div style=\"width: 50px; height: 50px; background: #4F5B48;\"></div>\n",
       "    <div>#4F5B48</div>\n",
       "</div>\n",
       "\n",
       "<div style=\"float: left;\">\n",
       "    <div style=\"width: 50px; height: 50px; background: #66704C;\"></div>\n",
       "    <div>#66704C</div>\n",
       "</div>\n",
       "\n",
       "<div style=\"float: left;\">\n",
       "    <div style=\"width: 50px; height: 50px; background: #7D8551;\"></div>\n",
       "    <div>#7D8551</div>\n",
       "</div>\n",
       "\n",
       "<div style=\"float: left;\">\n",
       "    <div style=\"width: 50px; height: 50px; background: #939A56;\"></div>\n",
       "    <div>#939A56</div>\n",
       "</div>\n",
       "\n",
       "<div style=\"float: left;\">\n",
       "    <div style=\"width: 50px; height: 50px; background: #AAAF5B;\"></div>\n",
       "    <div>#AAAF5B</div>\n",
       "</div>\n",
       "\n",
       "<div style=\"float: left;\">\n",
       "    <div style=\"width: 50px; height: 50px; background: #C1C45F;\"></div>\n",
       "    <div>#C1C45F</div>\n",
       "</div>\n",
       "\n",
       "<div style=\"float: left;\">\n",
       "    <div style=\"width: 50px; height: 50px; background: #D8D964;\"></div>\n",
       "    <div>#D8D964</div>\n",
       "</div>\n",
       "\n",
       "<div style=\"float: left;\">\n",
       "    <div style=\"width: 50px; height: 50px; background: #EFEE69;\"></div>\n",
       "    <div>#EFEE69</div>\n",
       "</div>\n",
       "</div>\n"
      ],
      "text/plain": [
       "<IPython.core.display.HTML object>"
      ]
     },
     "execution_count": 29,
     "metadata": {},
     "output_type": "execute_result"
    }
   ],
   "source": [
    "swatches(spectra.range([ \"#21313E\", \"#EFEE69\" ], 10))"
   ]
  },
  {
   "cell_type": "markdown",
   "metadata": {},
   "source": [
    "The colors produced by scales and ranges depend on the color space you're using. You can change the color space by calling __`.colorspace(space)`__. To wit:"
   ]
  },
  {
   "cell_type": "code",
   "execution_count": 30,
   "metadata": {
    "collapsed": false
   },
   "outputs": [
    {
     "data": {
      "text/html": [
       "<div style='margin-top: 0.5em;'>cmy</div>\n",
       "<div style='width: 500px; overflow: auto; font-size: 10px; \n",
       "    font-weight: bold; text-align: center; line-height: 1.5;'>\n",
       "<div style=\"float: left;\">\n",
       "    <div style=\"width: 50px; height: 50px; background: #21313E;\"></div>\n",
       "    <div>#21313E</div>\n",
       "</div>\n",
       "\n",
       "<div style=\"float: left;\">\n",
       "    <div style=\"width: 50px; height: 50px; background: #384643;\"></div>\n",
       "    <div>#384643</div>\n",
       "</div>\n",
       "\n",
       "<div style=\"float: left;\">\n",
       "    <div style=\"width: 50px; height: 50px; background: #4F5B48;\"></div>\n",
       "    <div>#4F5B48</div>\n",
       "</div>\n",
       "\n",
       "<div style=\"float: left;\">\n",
       "    <div style=\"width: 50px; height: 50px; background: #66704C;\"></div>\n",
       "    <div>#66704C</div>\n",
       "</div>\n",
       "\n",
       "<div style=\"float: left;\">\n",
       "    <div style=\"width: 50px; height: 50px; background: #7D8551;\"></div>\n",
       "    <div>#7D8551</div>\n",
       "</div>\n",
       "\n",
       "<div style=\"float: left;\">\n",
       "    <div style=\"width: 50px; height: 50px; background: #939A56;\"></div>\n",
       "    <div>#939A56</div>\n",
       "</div>\n",
       "\n",
       "<div style=\"float: left;\">\n",
       "    <div style=\"width: 50px; height: 50px; background: #AAAF5B;\"></div>\n",
       "    <div>#AAAF5B</div>\n",
       "</div>\n",
       "\n",
       "<div style=\"float: left;\">\n",
       "    <div style=\"width: 50px; height: 50px; background: #C1C45F;\"></div>\n",
       "    <div>#C1C45F</div>\n",
       "</div>\n",
       "\n",
       "<div style=\"float: left;\">\n",
       "    <div style=\"width: 50px; height: 50px; background: #D8D964;\"></div>\n",
       "    <div>#D8D964</div>\n",
       "</div>\n",
       "\n",
       "<div style=\"float: left;\">\n",
       "    <div style=\"width: 50px; height: 50px; background: #EFEE69;\"></div>\n",
       "    <div>#EFEE69</div>\n",
       "</div>\n",
       "</div>\n",
       "<div style='margin-top: 0.5em;'>cmyk</div>\n",
       "<div style='width: 500px; overflow: auto; font-size: 10px; \n",
       "    font-weight: bold; text-align: center; line-height: 1.5;'>\n",
       "<div style=\"float: left;\">\n",
       "    <div style=\"width: 50px; height: 50px; background: #21313E;\"></div>\n",
       "    <div>#21313E</div>\n",
       "</div>\n",
       "\n",
       "<div style=\"float: left;\">\n",
       "    <div style=\"width: 50px; height: 50px; background: #30424D;\"></div>\n",
       "    <div>#30424D</div>\n",
       "</div>\n",
       "\n",
       "<div style=\"float: left;\">\n",
       "    <div style=\"width: 50px; height: 50px; background: #405559;\"></div>\n",
       "    <div>#405559</div>\n",
       "</div>\n",
       "\n",
       "<div style=\"float: left;\">\n",
       "    <div style=\"width: 50px; height: 50px; background: #536862;\"></div>\n",
       "    <div>#536862</div>\n",
       "</div>\n",
       "\n",
       "<div style=\"float: left;\">\n",
       "    <div style=\"width: 50px; height: 50px; background: #687C6A;\"></div>\n",
       "    <div>#687C6A</div>\n",
       "</div>\n",
       "\n",
       "<div style=\"float: left;\">\n",
       "    <div style=\"width: 50px; height: 50px; background: #7F916E;\"></div>\n",
       "    <div>#7F916E</div>\n",
       "</div>\n",
       "\n",
       "<div style=\"float: left;\">\n",
       "    <div style=\"width: 50px; height: 50px; background: #98A771;\"></div>\n",
       "    <div>#98A771</div>\n",
       "</div>\n",
       "\n",
       "<div style=\"float: left;\">\n",
       "    <div style=\"width: 50px; height: 50px; background: #B3BE71;\"></div>\n",
       "    <div>#B3BE71</div>\n",
       "</div>\n",
       "\n",
       "<div style=\"float: left;\">\n",
       "    <div style=\"width: 50px; height: 50px; background: #D0D56E;\"></div>\n",
       "    <div>#D0D56E</div>\n",
       "</div>\n",
       "\n",
       "<div style=\"float: left;\">\n",
       "    <div style=\"width: 50px; height: 50px; background: #EFEE69;\"></div>\n",
       "    <div>#EFEE69</div>\n",
       "</div>\n",
       "</div>\n",
       "<div style='margin-top: 0.5em;'>hsl</div>\n",
       "<div style='width: 500px; overflow: auto; font-size: 10px; \n",
       "    font-weight: bold; text-align: center; line-height: 1.5;'>\n",
       "<div style=\"float: left;\">\n",
       "    <div style=\"width: 50px; height: 50px; background: #21313E;\"></div>\n",
       "    <div>#21313E</div>\n",
       "</div>\n",
       "\n",
       "<div style=\"float: left;\">\n",
       "    <div style=\"width: 50px; height: 50px; background: #274C53;\"></div>\n",
       "    <div>#274C53</div>\n",
       "</div>\n",
       "\n",
       "<div style=\"float: left;\">\n",
       "    <div style=\"width: 50px; height: 50px; background: #2C6A64;\"></div>\n",
       "    <div>#2C6A64</div>\n",
       "</div>\n",
       "\n",
       "<div style=\"float: left;\">\n",
       "    <div style=\"width: 50px; height: 50px; background: #2F8364;\"></div>\n",
       "    <div>#2F8364</div>\n",
       "</div>\n",
       "\n",
       "<div style=\"float: left;\">\n",
       "    <div style=\"width: 50px; height: 50px; background: #319D57;\"></div>\n",
       "    <div>#319D57</div>\n",
       "</div>\n",
       "\n",
       "<div style=\"float: left;\">\n",
       "    <div style=\"width: 50px; height: 50px; background: #31B93C;\"></div>\n",
       "    <div>#31B93C</div>\n",
       "</div>\n",
       "\n",
       "<div style=\"float: left;\">\n",
       "    <div style=\"width: 50px; height: 50px; background: #51D233;\"></div>\n",
       "    <div>#51D233</div>\n",
       "</div>\n",
       "\n",
       "<div style=\"float: left;\">\n",
       "    <div style=\"width: 50px; height: 50px; background: #8ADD43;\"></div>\n",
       "    <div>#8ADD43</div>\n",
       "</div>\n",
       "\n",
       "<div style=\"float: left;\">\n",
       "    <div style=\"width: 50px; height: 50px; background: #C0E755;\"></div>\n",
       "    <div>#C0E755</div>\n",
       "</div>\n",
       "\n",
       "<div style=\"float: left;\">\n",
       "    <div style=\"width: 50px; height: 50px; background: #EFEE69;\"></div>\n",
       "    <div>#EFEE69</div>\n",
       "</div>\n",
       "</div>\n",
       "<div style='margin-top: 0.5em;'>hsv</div>\n",
       "<div style='width: 500px; overflow: auto; font-size: 10px; \n",
       "    font-weight: bold; text-align: center; line-height: 1.5;'>\n",
       "<div style=\"float: left;\">\n",
       "    <div style=\"width: 50px; height: 50px; background: #21313E;\"></div>\n",
       "    <div>#21313E</div>\n",
       "</div>\n",
       "\n",
       "<div style=\"float: left;\">\n",
       "    <div style=\"width: 50px; height: 50px; background: #2B4B52;\"></div>\n",
       "    <div>#2B4B52</div>\n",
       "</div>\n",
       "\n",
       "<div style=\"float: left;\">\n",
       "    <div style=\"width: 50px; height: 50px; background: #346561;\"></div>\n",
       "    <div>#346561</div>\n",
       "</div>\n",
       "\n",
       "<div style=\"float: left;\">\n",
       "    <div style=\"width: 50px; height: 50px; background: #3D7963;\"></div>\n",
       "    <div>#3D7963</div>\n",
       "</div>\n",
       "\n",
       "<div style=\"float: left;\">\n",
       "    <div style=\"width: 50px; height: 50px; background: #458D5F;\"></div>\n",
       "    <div>#458D5F</div>\n",
       "</div>\n",
       "\n",
       "<div style=\"float: left;\">\n",
       "    <div style=\"width: 50px; height: 50px; background: #4DA054;\"></div>\n",
       "    <div>#4DA054</div>\n",
       "</div>\n",
       "\n",
       "<div style=\"float: left;\">\n",
       "    <div style=\"width: 50px; height: 50px; background: #67B455;\"></div>\n",
       "    <div>#67B455</div>\n",
       "</div>\n",
       "\n",
       "<div style=\"float: left;\">\n",
       "    <div style=\"width: 50px; height: 50px; background: #8EC85C;\"></div>\n",
       "    <div>#8EC85C</div>\n",
       "</div>\n",
       "\n",
       "<div style=\"float: left;\">\n",
       "    <div style=\"width: 50px; height: 50px; background: #BBDB63;\"></div>\n",
       "    <div>#BBDB63</div>\n",
       "</div>\n",
       "\n",
       "<div style=\"float: left;\">\n",
       "    <div style=\"width: 50px; height: 50px; background: #EFEE69;\"></div>\n",
       "    <div>#EFEE69</div>\n",
       "</div>\n",
       "</div>\n",
       "<div style='margin-top: 0.5em;'>lab</div>\n",
       "<div style='width: 500px; overflow: auto; font-size: 10px; \n",
       "    font-weight: bold; text-align: center; line-height: 1.5;'>\n",
       "<div style=\"float: left;\">\n",
       "    <div style=\"width: 50px; height: 50px; background: #24313E;\"></div>\n",
       "    <div>#24313E</div>\n",
       "</div>\n",
       "\n",
       "<div style=\"float: left;\">\n",
       "    <div style=\"width: 50px; height: 50px; background: #394344;\"></div>\n",
       "    <div>#394344</div>\n",
       "</div>\n",
       "\n",
       "<div style=\"float: left;\">\n",
       "    <div style=\"width: 50px; height: 50px; background: #4E564A;\"></div>\n",
       "    <div>#4E564A</div>\n",
       "</div>\n",
       "\n",
       "<div style=\"float: left;\">\n",
       "    <div style=\"width: 50px; height: 50px; background: #626A4F;\"></div>\n",
       "    <div>#626A4F</div>\n",
       "</div>\n",
       "\n",
       "<div style=\"float: left;\">\n",
       "    <div style=\"width: 50px; height: 50px; background: #777F54;\"></div>\n",
       "    <div>#777F54</div>\n",
       "</div>\n",
       "\n",
       "<div style=\"float: left;\">\n",
       "    <div style=\"width: 50px; height: 50px; background: #8C9459;\"></div>\n",
       "    <div>#8C9459</div>\n",
       "</div>\n",
       "\n",
       "<div style=\"float: left;\">\n",
       "    <div style=\"width: 50px; height: 50px; background: #A2AA5D;\"></div>\n",
       "    <div>#A2AA5D</div>\n",
       "</div>\n",
       "\n",
       "<div style=\"float: left;\">\n",
       "    <div style=\"width: 50px; height: 50px; background: #B8C161;\"></div>\n",
       "    <div>#B8C161</div>\n",
       "</div>\n",
       "\n",
       "<div style=\"float: left;\">\n",
       "    <div style=\"width: 50px; height: 50px; background: #CFD864;\"></div>\n",
       "    <div>#CFD864</div>\n",
       "</div>\n",
       "\n",
       "<div style=\"float: left;\">\n",
       "    <div style=\"width: 50px; height: 50px; background: #E6EF67;\"></div>\n",
       "    <div>#E6EF67</div>\n",
       "</div>\n",
       "</div>\n",
       "<div style='margin-top: 0.5em;'>lch</div>\n",
       "<div style='width: 500px; overflow: auto; font-size: 10px; \n",
       "    font-weight: bold; text-align: center; line-height: 1.5;'>\n",
       "<div style=\"float: left;\">\n",
       "    <div style=\"width: 50px; height: 50px; background: #24313E;\"></div>\n",
       "    <div>#24313E</div>\n",
       "</div>\n",
       "\n",
       "<div style=\"float: left;\">\n",
       "    <div style=\"width: 50px; height: 50px; background: #244557;\"></div>\n",
       "    <div>#244557</div>\n",
       "</div>\n",
       "\n",
       "<div style=\"float: left;\">\n",
       "    <div style=\"width: 50px; height: 50px; background: #1A5C6C;\"></div>\n",
       "    <div>#1A5C6C</div>\n",
       "</div>\n",
       "\n",
       "<div style=\"float: left;\">\n",
       "    <div style=\"width: 50px; height: 50px; background: #04737B;\"></div>\n",
       "    <div>#04737B</div>\n",
       "</div>\n",
       "\n",
       "<div style=\"float: left;\">\n",
       "    <div style=\"width: 50px; height: 50px; background: #008B83;\"></div>\n",
       "    <div>#008B83</div>\n",
       "</div>\n",
       "\n",
       "<div style=\"float: left;\">\n",
       "    <div style=\"width: 50px; height: 50px; background: #22A284;\"></div>\n",
       "    <div>#22A284</div>\n",
       "</div>\n",
       "\n",
       "<div style=\"float: left;\">\n",
       "    <div style=\"width: 50px; height: 50px; background: #4DB97F;\"></div>\n",
       "    <div>#4DB97F</div>\n",
       "</div>\n",
       "\n",
       "<div style=\"float: left;\">\n",
       "    <div style=\"width: 50px; height: 50px; background: #7ACE76;\"></div>\n",
       "    <div>#7ACE76</div>\n",
       "</div>\n",
       "\n",
       "<div style=\"float: left;\">\n",
       "    <div style=\"width: 50px; height: 50px; background: #ADE06C;\"></div>\n",
       "    <div>#ADE06C</div>\n",
       "</div>\n",
       "\n",
       "<div style=\"float: left;\">\n",
       "    <div style=\"width: 50px; height: 50px; background: #E6EF67;\"></div>\n",
       "    <div>#E6EF67</div>\n",
       "</div>\n",
       "</div>\n",
       "<div style='margin-top: 0.5em;'>rgb</div>\n",
       "<div style='width: 500px; overflow: auto; font-size: 10px; \n",
       "    font-weight: bold; text-align: center; line-height: 1.5;'>\n",
       "<div style=\"float: left;\">\n",
       "    <div style=\"width: 50px; height: 50px; background: #21313E;\"></div>\n",
       "    <div>#21313E</div>\n",
       "</div>\n",
       "\n",
       "<div style=\"float: left;\">\n",
       "    <div style=\"width: 50px; height: 50px; background: #384643;\"></div>\n",
       "    <div>#384643</div>\n",
       "</div>\n",
       "\n",
       "<div style=\"float: left;\">\n",
       "    <div style=\"width: 50px; height: 50px; background: #4F5B48;\"></div>\n",
       "    <div>#4F5B48</div>\n",
       "</div>\n",
       "\n",
       "<div style=\"float: left;\">\n",
       "    <div style=\"width: 50px; height: 50px; background: #66704C;\"></div>\n",
       "    <div>#66704C</div>\n",
       "</div>\n",
       "\n",
       "<div style=\"float: left;\">\n",
       "    <div style=\"width: 50px; height: 50px; background: #7D8551;\"></div>\n",
       "    <div>#7D8551</div>\n",
       "</div>\n",
       "\n",
       "<div style=\"float: left;\">\n",
       "    <div style=\"width: 50px; height: 50px; background: #939A56;\"></div>\n",
       "    <div>#939A56</div>\n",
       "</div>\n",
       "\n",
       "<div style=\"float: left;\">\n",
       "    <div style=\"width: 50px; height: 50px; background: #AAAF5B;\"></div>\n",
       "    <div>#AAAF5B</div>\n",
       "</div>\n",
       "\n",
       "<div style=\"float: left;\">\n",
       "    <div style=\"width: 50px; height: 50px; background: #C1C45F;\"></div>\n",
       "    <div>#C1C45F</div>\n",
       "</div>\n",
       "\n",
       "<div style=\"float: left;\">\n",
       "    <div style=\"width: 50px; height: 50px; background: #D8D964;\"></div>\n",
       "    <div>#D8D964</div>\n",
       "</div>\n",
       "\n",
       "<div style=\"float: left;\">\n",
       "    <div style=\"width: 50px; height: 50px; background: #EFEE69;\"></div>\n",
       "    <div>#EFEE69</div>\n",
       "</div>\n",
       "</div>\n",
       "<div style='margin-top: 0.5em;'>xyz</div>\n",
       "<div style='width: 500px; overflow: auto; font-size: 10px; \n",
       "    font-weight: bold; text-align: center; line-height: 1.5;'>\n",
       "<div style=\"float: left;\">\n",
       "    <div style=\"width: 50px; height: 50px; background: #1A3148;\"></div>\n",
       "    <div>#1A3148</div>\n",
       "</div>\n",
       "\n",
       "<div style=\"float: left;\">\n",
       "    <div style=\"width: 50px; height: 50px; background: #556351;\"></div>\n",
       "    <div>#556351</div>\n",
       "</div>\n",
       "\n",
       "<div style=\"float: left;\">\n",
       "    <div style=\"width: 50px; height: 50px; background: #738159;\"></div>\n",
       "    <div>#738159</div>\n",
       "</div>\n",
       "\n",
       "<div style=\"float: left;\">\n",
       "    <div style=\"width: 50px; height: 50px; background: #899860;\"></div>\n",
       "    <div>#899860</div>\n",
       "</div>\n",
       "\n",
       "<div style=\"float: left;\">\n",
       "    <div style=\"width: 50px; height: 50px; background: #9BAB66;\"></div>\n",
       "    <div>#9BAB66</div>\n",
       "</div>\n",
       "\n",
       "<div style=\"float: left;\">\n",
       "    <div style=\"width: 50px; height: 50px; background: #ABBC6C;\"></div>\n",
       "    <div>#ABBC6C</div>\n",
       "</div>\n",
       "\n",
       "<div style=\"float: left;\">\n",
       "    <div style=\"width: 50px; height: 50px; background: #BACB72;\"></div>\n",
       "    <div>#BACB72</div>\n",
       "</div>\n",
       "\n",
       "<div style=\"float: left;\">\n",
       "    <div style=\"width: 50px; height: 50px; background: #C7D977;\"></div>\n",
       "    <div>#C7D977</div>\n",
       "</div>\n",
       "\n",
       "<div style=\"float: left;\">\n",
       "    <div style=\"width: 50px; height: 50px; background: #D3E57C;\"></div>\n",
       "    <div>#D3E57C</div>\n",
       "</div>\n",
       "\n",
       "<div style=\"float: left;\">\n",
       "    <div style=\"width: 50px; height: 50px; background: #DEF181;\"></div>\n",
       "    <div>#DEF181</div>\n",
       "</div>\n",
       "</div>\n"
      ],
      "text/plain": [
       "<IPython.core.display.HTML object>"
      ]
     },
     "execution_count": 30,
     "metadata": {},
     "output_type": "execute_result"
    }
   ],
   "source": [
    "ranges_html = \"\"\n",
    "for space in sorted(spectra.COLOR_SPACES.keys()):\n",
    "    converted_scale = scale.colorspace(space)\n",
    "    ranges_html += \"<div style='margin-top: 0.5em;'>\" + space + \"</div>\"\n",
    "    ranges_html += swatches(converted_scale.range(10)).data\n",
    "HTML(ranges_html)"
   ]
  },
  {
   "cell_type": "markdown",
   "metadata": {},
   "source": [
    "(Credit to [Gregor Aisch](http://driven-by-data.net/about/chromajs/) for that example.)"
   ]
  },
  {
   "cell_type": "markdown",
   "metadata": {},
   "source": [
    "## Polylinear Scales\n",
    "\n",
    "You can construct a scale along *any number of colors*. Constructing a scale along three colors can be handy for divergent color schemes. For example, here's a scale that goes from red -> gray -> green instead of directly from red -> green:"
   ]
  },
  {
   "cell_type": "code",
   "execution_count": 31,
   "metadata": {
    "collapsed": false
   },
   "outputs": [
    {
     "data": {
      "text/html": [
       "\n",
       "<div style='width: 500px; overflow: auto; font-size: 10px; \n",
       "    font-weight: bold; text-align: center; line-height: 1.5;'>\n",
       "<div style=\"float: left;\">\n",
       "    <div style=\"width: 50px; height: 50px; background: #FA0007;\"></div>\n",
       "    <div>#FA0007</div>\n",
       "</div>\n",
       "\n",
       "<div style=\"float: left;\">\n",
       "    <div style=\"width: 50px; height: 50px; background: #F85B3C;\"></div>\n",
       "    <div>#F85B3C</div>\n",
       "</div>\n",
       "\n",
       "<div style=\"float: left;\">\n",
       "    <div style=\"width: 50px; height: 50px; background: #F1866B;\"></div>\n",
       "    <div>#F1866B</div>\n",
       "</div>\n",
       "\n",
       "<div style=\"float: left;\">\n",
       "    <div style=\"width: 50px; height: 50px; background: #E3AA9A;\"></div>\n",
       "    <div>#E3AA9A</div>\n",
       "</div>\n",
       "\n",
       "<div style=\"float: left;\">\n",
       "    <div style=\"width: 50px; height: 50px; background: #CCCCCC;\"></div>\n",
       "    <div>#CCCCCC</div>\n",
       "</div>\n",
       "\n",
       "<div style=\"float: left;\">\n",
       "    <div style=\"width: 50px; height: 50px; background: #A2BA9C;\"></div>\n",
       "    <div>#A2BA9C</div>\n",
       "</div>\n",
       "\n",
       "<div style=\"float: left;\">\n",
       "    <div style=\"width: 50px; height: 50px; background: #76A86D;\"></div>\n",
       "    <div>#76A86D</div>\n",
       "</div>\n",
       "\n",
       "<div style=\"float: left;\">\n",
       "    <div style=\"width: 50px; height: 50px; background: #46953E;\"></div>\n",
       "    <div>#46953E</div>\n",
       "</div>\n",
       "\n",
       "<div style=\"float: left;\">\n",
       "    <div style=\"width: 50px; height: 50px; background: #008100;\"></div>\n",
       "    <div>#008100</div>\n",
       "</div>\n",
       "</div>\n"
      ],
      "text/plain": [
       "<IPython.core.display.HTML object>"
      ]
     },
     "execution_count": 31,
     "metadata": {},
     "output_type": "execute_result"
    }
   ],
   "source": [
    "red, gray, green = [ spectra.html(x).to(\"lab\") for x in (\"red\", \"#CCC\", \"green\") ]\n",
    "polylinear_scale = spectra.scale([ red, gray, green ])\n",
    "swatches(polylinear_scale.range(9))"
   ]
  },
  {
   "cell_type": "code",
   "execution_count": 32,
   "metadata": {
    "collapsed": true
   },
   "outputs": [],
   "source": [
    "polylinear_negpos = polylinear_scale.domain([ -1, 0, 1 ])"
   ]
  },
  {
   "cell_type": "code",
   "execution_count": 33,
   "metadata": {
    "collapsed": false
   },
   "outputs": [
    {
     "data": {
      "text/html": [
       "\n",
       "<div style='width: 500px; overflow: auto; font-size: 10px; \n",
       "    font-weight: bold; text-align: center; line-height: 1.5;'>\n",
       "<div style=\"float: left;\">\n",
       "    <div style=\"width: 50px; height: 50px; background: #F85B3C;\"></div>\n",
       "    <div>#F85B3C</div>\n",
       "</div>\n",
       "\n",
       "<div style=\"float: left;\">\n",
       "    <div style=\"width: 50px; height: 50px; background: #AABEA5;\"></div>\n",
       "    <div>#AABEA5</div>\n",
       "</div>\n",
       "\n",
       "<div style=\"float: left;\">\n",
       "    <div style=\"width: 50px; height: 50px; background: #008100;\"></div>\n",
       "    <div>#008100</div>\n",
       "</div>\n",
       "</div>\n"
      ],
      "text/plain": [
       "<IPython.core.display.HTML object>"
      ]
     },
     "execution_count": 33,
     "metadata": {},
     "output_type": "execute_result"
    }
   ],
   "source": [
    "swatches([\n",
    "    polylinear_negpos(-0.75),\n",
    "    polylinear_negpos(0.2),\n",
    "    polylinear_negpos(1)\n",
    "])"
   ]
  },
  {
   "cell_type": "markdown",
   "metadata": {},
   "source": [
    "## Feedback / Questions\n",
    "\n",
    "Much appreciated! Please [open an issue](https://github.com/jsvine/spectra/issues) on the [`spectra` GitHub page](https://github.com/jsvine/spectra)."
   ]
  },
  {
   "cell_type": "markdown",
   "metadata": {},
   "source": [
    "---\n",
    "\n",
    "---\n",
    "\n",
    "---"
   ]
  }
 ],
 "metadata": {
  "kernelspec": {
   "display_name": "Python 2",
   "language": "python",
   "name": "python2"
  },
  "language_info": {
   "codemirror_mode": {
    "name": "ipython",
    "version": 2
   },
   "file_extension": ".py",
   "mimetype": "text/x-python",
   "name": "python",
   "nbconvert_exporter": "python",
   "pygments_lexer": "ipython2",
   "version": "2.7.9"
  }
 },
 "nbformat": 4,
 "nbformat_minor": 0
}
