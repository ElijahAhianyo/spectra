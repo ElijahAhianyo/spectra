{
 "cells": [
  {
   "cell_type": "markdown",
   "metadata": {},
   "source": [
    "# `Spectra` Walkthrough\n",
    "\n",
    "This notebook provides basic documentation of the [`spectra` Python library](https://github.com/jsvine/spectra), which aims to simplify the process of creating color scales and converting colors from one \"color space\" to another."
   ]
  },
  {
   "cell_type": "code",
   "execution_count": 1,
   "metadata": {
    "collapsed": false
   },
   "outputs": [],
   "source": [
    "import spectra"
   ]
  },
  {
   "cell_type": "markdown",
   "metadata": {},
   "source": [
    "Note: To visually display the colors we create, we'll define and use this `swatches` function:"
   ]
  },
  {
   "cell_type": "code",
   "execution_count": 2,
   "metadata": {
    "collapsed": true
   },
   "outputs": [],
   "source": [
    "from IPython.display import HTML"
   ]
  },
  {
   "cell_type": "code",
   "execution_count": 3,
   "metadata": {
    "collapsed": true
   },
   "outputs": [],
   "source": [
    "def swatches(colors):\n",
    "    tmpl = \"<div style='float: left; width: 20px;height: 20px; background:{0}'></div>\"\n",
    "    hexes = (c.hexcode for c in colors)\n",
    "    html = \"<div style='width: 400px; overflow:auto;'>\" + \"\".join(map(tmpl.format, hexes)) + \"</div>\"\n",
    "    return HTML(html)"
   ]
  },
  {
   "cell_type": "markdown",
   "metadata": {},
   "source": [
    "## Creating Colors\n",
    "\n",
    "The easiest way to create a color is to use these shortcuts, one for each \"color space\" `spectra` supports:\n",
    "\n",
    "- __`spectra.rgb(r, g, b)`__\n",
    "- __`spectra.hsl(h, s, l)`__\n",
    "- __`spectra.hsv(h, s, v)`__\n",
    "- __`spectra.lab(l, a, b)`__\n",
    "- __`spectra.lch(l, c, h)`__\n",
    "- __`spectra.cmy(c, m, y)`__\n",
    "- __`spectra.cmyk(c, m, y, k)`__\n",
    "- __`spectra.xyz(x, y, z)`__\n",
    "\n",
    "You can also pass a WC3 color name (e.g., `\"papayawhip\"`) or hexcode (e.g., `\"#fefefe\"`) to `spectra.html(color)`, which will create the corresponding `rgb` color.\n",
    "\n",
    "For example:"
   ]
  },
  {
   "cell_type": "code",
   "execution_count": 4,
   "metadata": {
    "collapsed": false
   },
   "outputs": [
    {
     "data": {
      "text/html": [
       "<div style='width: 400px; overflow:auto;'><div style='float: left; width: 20px;height: 20px; background:#ff6347'></div></div>"
      ],
      "text/plain": [
       "<IPython.core.display.HTML object>"
      ]
     },
     "execution_count": 4,
     "metadata": {},
     "output_type": "execute_result"
    }
   ],
   "source": [
    "swatches([ spectra.html(\"tomato\") ])"
   ]
  },
  {
   "cell_type": "code",
   "execution_count": 5,
   "metadata": {
    "collapsed": false
   },
   "outputs": [
    {
     "data": {
      "text/html": [
       "<div style='width: 400px; overflow:auto;'><div style='float: left; width: 20px;height: 20px; background:#ff6347'></div></div>"
      ],
      "text/plain": [
       "<IPython.core.display.HTML object>"
      ]
     },
     "execution_count": 5,
     "metadata": {},
     "output_type": "execute_result"
    }
   ],
   "source": [
    "swatches([ spectra.rgb(1, 0.388, 0.278) ])"
   ]
  },
  {
   "cell_type": "code",
   "execution_count": 6,
   "metadata": {
    "collapsed": false
   },
   "outputs": [
    {
     "data": {
      "text/html": [
       "<div style='width: 400px; overflow:auto;'><div style='float: left; width: 20px;height: 20px; background:#fa6348'></div></div>"
      ],
      "text/plain": [
       "<IPython.core.display.HTML object>"
      ]
     },
     "execution_count": 6,
     "metadata": {},
     "output_type": "execute_result"
    }
   ],
   "source": [
    "swatches([ spectra.lab(62.2, 57.9, 46.5) ])"
   ]
  },
  {
   "cell_type": "markdown",
   "metadata": {},
   "source": [
    "## Getting Color Values\n",
    "\n",
    "Instances of `spectra.Color` have three main properties:\n",
    "\n",
    "- __`.values`__: An array representation of the color's values in its own color space, e.g. `(L, a, b)` for an `lab` color.\n",
    "- __`.rgb`__: The `(r, g, b)` values for this color in the `rgb` color space.\n",
    "- __`.hexcode`__: The hex encoding of this color, e.g. `#ffffff` for `rgb(255, 255, 255)`/`html(\"white\")`"
   ]
  },
  {
   "cell_type": "code",
   "execution_count": 7,
   "metadata": {
    "collapsed": true
   },
   "outputs": [],
   "source": [
    "lab_tomato = spectra.lab(62.2, 57.9, 46.5)"
   ]
  },
  {
   "cell_type": "code",
   "execution_count": 8,
   "metadata": {
    "collapsed": false
   },
   "outputs": [
    {
     "data": {
      "text/plain": [
       "(62.2, 57.9, 46.5)"
      ]
     },
     "execution_count": 8,
     "metadata": {},
     "output_type": "execute_result"
    }
   ],
   "source": [
    "lab_tomato.values"
   ]
  },
  {
   "cell_type": "code",
   "execution_count": 9,
   "metadata": {
    "collapsed": false
   },
   "outputs": [
    {
     "data": {
      "text/plain": [
       "(0.9819008976308378, 0.38743053336747524, 0.28042376493335525)"
      ]
     },
     "execution_count": 9,
     "metadata": {},
     "output_type": "execute_result"
    }
   ],
   "source": [
    "lab_tomato.rgb"
   ]
  },
  {
   "cell_type": "code",
   "execution_count": 10,
   "metadata": {
    "collapsed": false
   },
   "outputs": [
    {
     "data": {
      "text/plain": [
       "'#fa6348'"
      ]
     },
     "execution_count": 10,
     "metadata": {},
     "output_type": "execute_result"
    }
   ],
   "source": [
    "lab_tomato.hexcode"
   ]
  },
  {
   "cell_type": "markdown",
   "metadata": {},
   "source": [
    "## Converting Colors\n",
    "\n",
    "Any `spectra.Color` can be converted to any supported color space, using the __`.to(colorspace)`__ method. E.g.,:"
   ]
  },
  {
   "cell_type": "code",
   "execution_count": 11,
   "metadata": {
    "collapsed": false
   },
   "outputs": [
    {
     "data": {
      "text/plain": [
       "(9.152694801836162, 0.7144072628816505, 0.9819008976308378)"
      ]
     },
     "execution_count": 11,
     "metadata": {},
     "output_type": "execute_result"
    }
   ],
   "source": [
    "lab_tomato.to(\"hsv\").values"
   ]
  },
  {
   "cell_type": "code",
   "execution_count": 12,
   "metadata": {
    "collapsed": false
   },
   "outputs": [
    {
     "data": {
      "text/plain": [
       "'#fa6348'"
      ]
     },
     "execution_count": 12,
     "metadata": {},
     "output_type": "execute_result"
    }
   ],
   "source": [
    "lab_tomato.to(\"hsv\").hexcode"
   ]
  },
  {
   "cell_type": "markdown",
   "metadata": {},
   "source": [
    "## Color Operations\n",
    "\n",
    "The following `spectra.Color` methods return new colors:\n",
    "\n",
    "- __`.blend(other_color, ratio=0.5)`__\n",
    "- __`.brighten(amount=10)`__\n",
    "- __`.darken(amount=10)`__\n",
    "- __`.saturate(amount=10)`__\n",
    "- __`.desaturate(amount=10)`__"
   ]
  },
  {
   "cell_type": "code",
   "execution_count": 13,
   "metadata": {
    "collapsed": false
   },
   "outputs": [],
   "source": [
    "lab_yellow = spectra.html(\"yellow\").to(\"lab\")"
   ]
  },
  {
   "cell_type": "code",
   "execution_count": 14,
   "metadata": {
    "collapsed": false
   },
   "outputs": [
    {
     "data": {
      "text/html": [
       "<div style='width: 400px; overflow:auto;'><div style='float: left; width: 20px;height: 20px; background:#fa6348'></div><div style='float: left; width: 20px;height: 20px; background:#fd9041'></div><div style='float: left; width: 20px;height: 20px; background:#fadd24'></div><div style='float: left; width: 20px;height: 20px; background:#f3ff00'></div></div>"
      ],
      "text/plain": [
       "<IPython.core.display.HTML object>"
      ]
     },
     "execution_count": 14,
     "metadata": {},
     "output_type": "execute_result"
    }
   ],
   "source": [
    "swatches([\n",
    "    lab_tomato,\n",
    "    lab_tomato.blend(lab_yellow, 0.25),\n",
    "    lab_tomato.blend(lab_yellow, 0.75),\n",
    "    lab_yellow\n",
    "])"
   ]
  },
  {
   "cell_type": "code",
   "execution_count": 15,
   "metadata": {
    "collapsed": false
   },
   "outputs": [
    {
     "data": {
      "text/html": [
       "<div style='width: 400px; overflow:auto;'><div style='float: left; width: 20px;height: 20px; background:#ffb893'></div><div style='float: left; width: 20px;height: 20px; background:#fa6348'></div><div style='float: left; width: 20px;height: 20px; background:#9d0002'></div></div>"
      ],
      "text/plain": [
       "<IPython.core.display.HTML object>"
      ]
     },
     "execution_count": 15,
     "metadata": {},
     "output_type": "execute_result"
    }
   ],
   "source": [
    "swatches([\n",
    "    lab_tomato.brighten(30),\n",
    "    lab_tomato,\n",
    "    lab_tomato.darken(30)\n",
    "])"
   ]
  },
  {
   "cell_type": "code",
   "execution_count": 16,
   "metadata": {
    "collapsed": false
   },
   "outputs": [
    {
     "data": {
      "text/html": [
       "<div style='width: 400px; overflow:auto;'><div style='float: left; width: 20px;height: 20px; background:#ff0c19'></div><div style='float: left; width: 20px;height: 20px; background:#fa6348'></div><div style='float: left; width: 20px;height: 20px; background:#cb8372'></div></div>"
      ],
      "text/plain": [
       "<IPython.core.display.HTML object>"
      ]
     },
     "execution_count": 16,
     "metadata": {},
     "output_type": "execute_result"
    }
   ],
   "source": [
    "swatches([\n",
    "    lab_tomato.saturate(40),\n",
    "    lab_tomato,\n",
    "    lab_tomato.desaturate(40)\n",
    "])"
   ]
  },
  {
   "cell_type": "markdown",
   "metadata": {},
   "source": [
    "## Color Scales\n",
    "\n",
    "Color scales translate numbers into colors, based on a set of `colors` and a `domain` (default: 0->1)."
   ]
  },
  {
   "cell_type": "code",
   "execution_count": 17,
   "metadata": {
    "collapsed": false
   },
   "outputs": [
    {
     "data": {
      "text/html": [
       "<div style='width: 400px; overflow:auto;'><div style='float: left; width: 20px;height: 20px; background:#21313e'></div><div style='float: left; width: 20px;height: 20px; background:#efee69'></div></div>"
      ],
      "text/plain": [
       "<IPython.core.display.HTML object>"
      ]
     },
     "execution_count": 17,
     "metadata": {},
     "output_type": "execute_result"
    }
   ],
   "source": [
    "start = spectra.html(\"#21313E\")\n",
    "end = spectra.html(\"#EFEE69\")\n",
    "swatches([ start, end ])"
   ]
  },
  {
   "cell_type": "code",
   "execution_count": 18,
   "metadata": {
    "collapsed": true
   },
   "outputs": [],
   "source": [
    "scale = spectra.Scale([ start, end ])"
   ]
  },
  {
   "cell_type": "code",
   "execution_count": 19,
   "metadata": {
    "collapsed": false
   },
   "outputs": [
    {
     "data": {
      "text/html": [
       "<div style='width: 400px; overflow:auto;'><div style='float: left; width: 20px;height: 20px; background:#21313e'></div><div style='float: left; width: 20px;height: 20px; background:#889054'></div><div style='float: left; width: 20px;height: 20px; background:#efee69'></div></div>"
      ],
      "text/plain": [
       "<IPython.core.display.HTML object>"
      ]
     },
     "execution_count": 19,
     "metadata": {},
     "output_type": "execute_result"
    }
   ],
   "source": [
    "swatches([\n",
    "    scale(0),\n",
    "    scale(0.5),\n",
    "    scale(1)\n",
    "])"
   ]
  },
  {
   "cell_type": "markdown",
   "metadata": {},
   "source": [
    "To set a custom domain, call `.domain([ start_num, end_num ])`:"
   ]
  },
  {
   "cell_type": "code",
   "execution_count": 20,
   "metadata": {
    "collapsed": false
   },
   "outputs": [],
   "source": [
    "ten_twenty_scale = scale.domain([ 10, 20 ])"
   ]
  },
  {
   "cell_type": "code",
   "execution_count": 21,
   "metadata": {
    "collapsed": false
   },
   "outputs": [
    {
     "data": {
      "text/html": [
       "<div style='width: 400px; overflow:auto;'><div style='float: left; width: 20px;height: 20px; background:#21313e'></div><div style='float: left; width: 20px;height: 20px; background:#889054'></div><div style='float: left; width: 20px;height: 20px; background:#efee69'></div></div>"
      ],
      "text/plain": [
       "<IPython.core.display.HTML object>"
      ]
     },
     "execution_count": 21,
     "metadata": {},
     "output_type": "execute_result"
    }
   ],
   "source": [
    "swatches([\n",
    "    ten_twenty_scale(10),\n",
    "    ten_twenty_scale(15),\n",
    "    ten_twenty_scale(20)\n",
    "])"
   ]
  },
  {
   "cell_type": "markdown",
   "metadata": {},
   "source": [
    "The __`.range(count)`__ method produces an evenly-spaced list of colors:"
   ]
  },
  {
   "cell_type": "code",
   "execution_count": 22,
   "metadata": {
    "collapsed": false
   },
   "outputs": [
    {
     "data": {
      "text/html": [
       "<div style='width: 400px; overflow:auto;'><div style='float: left; width: 20px;height: 20px; background:#21313e'></div><div style='float: left; width: 20px;height: 20px; background:#384643'></div><div style='float: left; width: 20px;height: 20px; background:#4f5b48'></div><div style='float: left; width: 20px;height: 20px; background:#66704c'></div><div style='float: left; width: 20px;height: 20px; background:#7d8551'></div><div style='float: left; width: 20px;height: 20px; background:#939a56'></div><div style='float: left; width: 20px;height: 20px; background:#aaaf5b'></div><div style='float: left; width: 20px;height: 20px; background:#c1c45f'></div><div style='float: left; width: 20px;height: 20px; background:#d8d964'></div><div style='float: left; width: 20px;height: 20px; background:#efee69'></div></div>"
      ],
      "text/plain": [
       "<IPython.core.display.HTML object>"
      ]
     },
     "execution_count": 22,
     "metadata": {},
     "output_type": "execute_result"
    }
   ],
   "source": [
    "swatches(ten_twenty_scale.range(10))"
   ]
  },
  {
   "cell_type": "markdown",
   "metadata": {},
   "source": [
    "The colors produced by scales and ranges depend on the color space you're using. You can change the color space by calling __`.colorspace(space)`__. To wit:"
   ]
  },
  {
   "cell_type": "code",
   "execution_count": 23,
   "metadata": {
    "collapsed": false
   },
   "outputs": [
    {
     "data": {
      "text/html": [
       "<div style='margin-top: 0.5em;'>cmy</div><div style='width: 400px; overflow:auto;'><div style='float: left; width: 20px;height: 20px; background:#21313e'></div><div style='float: left; width: 20px;height: 20px; background:#384643'></div><div style='float: left; width: 20px;height: 20px; background:#4f5b48'></div><div style='float: left; width: 20px;height: 20px; background:#66704c'></div><div style='float: left; width: 20px;height: 20px; background:#7d8551'></div><div style='float: left; width: 20px;height: 20px; background:#939a56'></div><div style='float: left; width: 20px;height: 20px; background:#aaaf5b'></div><div style='float: left; width: 20px;height: 20px; background:#c1c45f'></div><div style='float: left; width: 20px;height: 20px; background:#d8d964'></div><div style='float: left; width: 20px;height: 20px; background:#efee69'></div></div><div style='margin-top: 0.5em;'>cmyk</div><div style='width: 400px; overflow:auto;'><div style='float: left; width: 20px;height: 20px; background:#21313e'></div><div style='float: left; width: 20px;height: 20px; background:#30424d'></div><div style='float: left; width: 20px;height: 20px; background:#405559'></div><div style='float: left; width: 20px;height: 20px; background:#536862'></div><div style='float: left; width: 20px;height: 20px; background:#687c6a'></div><div style='float: left; width: 20px;height: 20px; background:#7f916e'></div><div style='float: left; width: 20px;height: 20px; background:#98a771'></div><div style='float: left; width: 20px;height: 20px; background:#b3be71'></div><div style='float: left; width: 20px;height: 20px; background:#d0d56e'></div><div style='float: left; width: 20px;height: 20px; background:#efee69'></div></div><div style='margin-top: 0.5em;'>hsl</div><div style='width: 400px; overflow:auto;'><div style='float: left; width: 20px;height: 20px; background:#21313e'></div><div style='float: left; width: 20px;height: 20px; background:#274c53'></div><div style='float: left; width: 20px;height: 20px; background:#2c6a64'></div><div style='float: left; width: 20px;height: 20px; background:#2f8364'></div><div style='float: left; width: 20px;height: 20px; background:#319d57'></div><div style='float: left; width: 20px;height: 20px; background:#31b93c'></div><div style='float: left; width: 20px;height: 20px; background:#51d233'></div><div style='float: left; width: 20px;height: 20px; background:#8add43'></div><div style='float: left; width: 20px;height: 20px; background:#c0e755'></div><div style='float: left; width: 20px;height: 20px; background:#efee69'></div></div><div style='margin-top: 0.5em;'>hsv</div><div style='width: 400px; overflow:auto;'><div style='float: left; width: 20px;height: 20px; background:#21313e'></div><div style='float: left; width: 20px;height: 20px; background:#2b4b52'></div><div style='float: left; width: 20px;height: 20px; background:#346561'></div><div style='float: left; width: 20px;height: 20px; background:#3d7963'></div><div style='float: left; width: 20px;height: 20px; background:#458d5f'></div><div style='float: left; width: 20px;height: 20px; background:#4da054'></div><div style='float: left; width: 20px;height: 20px; background:#67b455'></div><div style='float: left; width: 20px;height: 20px; background:#8ec85c'></div><div style='float: left; width: 20px;height: 20px; background:#bbdb63'></div><div style='float: left; width: 20px;height: 20px; background:#efee69'></div></div><div style='margin-top: 0.5em;'>lab</div><div style='width: 400px; overflow:auto;'><div style='float: left; width: 20px;height: 20px; background:#24313e'></div><div style='float: left; width: 20px;height: 20px; background:#394344'></div><div style='float: left; width: 20px;height: 20px; background:#4e564a'></div><div style='float: left; width: 20px;height: 20px; background:#626a4f'></div><div style='float: left; width: 20px;height: 20px; background:#777f54'></div><div style='float: left; width: 20px;height: 20px; background:#8c9459'></div><div style='float: left; width: 20px;height: 20px; background:#a2aa5d'></div><div style='float: left; width: 20px;height: 20px; background:#b8c161'></div><div style='float: left; width: 20px;height: 20px; background:#cfd864'></div><div style='float: left; width: 20px;height: 20px; background:#e6ef67'></div></div><div style='margin-top: 0.5em;'>lch</div><div style='width: 400px; overflow:auto;'><div style='float: left; width: 20px;height: 20px; background:#24313e'></div><div style='float: left; width: 20px;height: 20px; background:#244557'></div><div style='float: left; width: 20px;height: 20px; background:#1a5c6c'></div><div style='float: left; width: 20px;height: 20px; background:#04737b'></div><div style='float: left; width: 20px;height: 20px; background:#008b83'></div><div style='float: left; width: 20px;height: 20px; background:#22a284'></div><div style='float: left; width: 20px;height: 20px; background:#4db97f'></div><div style='float: left; width: 20px;height: 20px; background:#7ace76'></div><div style='float: left; width: 20px;height: 20px; background:#ade06c'></div><div style='float: left; width: 20px;height: 20px; background:#e6ef67'></div></div><div style='margin-top: 0.5em;'>rgb</div><div style='width: 400px; overflow:auto;'><div style='float: left; width: 20px;height: 20px; background:#21313e'></div><div style='float: left; width: 20px;height: 20px; background:#384643'></div><div style='float: left; width: 20px;height: 20px; background:#4f5b48'></div><div style='float: left; width: 20px;height: 20px; background:#66704c'></div><div style='float: left; width: 20px;height: 20px; background:#7d8551'></div><div style='float: left; width: 20px;height: 20px; background:#939a56'></div><div style='float: left; width: 20px;height: 20px; background:#aaaf5b'></div><div style='float: left; width: 20px;height: 20px; background:#c1c45f'></div><div style='float: left; width: 20px;height: 20px; background:#d8d964'></div><div style='float: left; width: 20px;height: 20px; background:#efee69'></div></div><div style='margin-top: 0.5em;'>xyz</div><div style='width: 400px; overflow:auto;'><div style='float: left; width: 20px;height: 20px; background:#1a3148'></div><div style='float: left; width: 20px;height: 20px; background:#556351'></div><div style='float: left; width: 20px;height: 20px; background:#738159'></div><div style='float: left; width: 20px;height: 20px; background:#899860'></div><div style='float: left; width: 20px;height: 20px; background:#9bab66'></div><div style='float: left; width: 20px;height: 20px; background:#abbc6c'></div><div style='float: left; width: 20px;height: 20px; background:#bacb72'></div><div style='float: left; width: 20px;height: 20px; background:#c7d977'></div><div style='float: left; width: 20px;height: 20px; background:#d3e57c'></div><div style='float: left; width: 20px;height: 20px; background:#def181'></div></div>"
      ],
      "text/plain": [
       "<IPython.core.display.HTML object>"
      ]
     },
     "execution_count": 23,
     "metadata": {},
     "output_type": "execute_result"
    }
   ],
   "source": [
    "ranges_html = \"\"\n",
    "for space in sorted(spectra.COLOR_SPACES.keys()):\n",
    "    converted_scale = scale.colorspace(space)\n",
    "    ranges_html += \"<div style='margin-top: 0.5em;'>\" + space + \"</div>\"\n",
    "    ranges_html += swatches(converted_scale.range(10)).data\n",
    "HTML(ranges_html)"
   ]
  },
  {
   "cell_type": "markdown",
   "metadata": {},
   "source": [
    "(Credit to [Gregor Aisch](http://driven-by-data.net/about/chromajs/) for that example.)"
   ]
  },
  {
   "cell_type": "markdown",
   "metadata": {},
   "source": [
    "## Polylinear Scales\n",
    "\n",
    "You can construct a scale along *any number of colors*. Constructing a scale along three colors can be handy for divergent color schemes. For example, here's a scale that goes from red -> gray -> green instead of directly from red -> green:"
   ]
  },
  {
   "cell_type": "code",
   "execution_count": 24,
   "metadata": {
    "collapsed": false
   },
   "outputs": [
    {
     "data": {
      "text/html": [
       "<div style='width: 400px; overflow:auto;'><div style='float: left; width: 20px;height: 20px; background:#fa0007'></div><div style='float: left; width: 20px;height: 20px; background:#f95033'></div><div style='float: left; width: 20px;height: 20px; background:#f47658'></div><div style='float: left; width: 20px;height: 20px; background:#ec957e'></div><div style='float: left; width: 20px;height: 20px; background:#e0b1a4'></div><div style='float: left; width: 20px;height: 20px; background:#cccccc'></div><div style='float: left; width: 20px;height: 20px; background:#aabea5'></div><div style='float: left; width: 20px;height: 20px; background:#88af80'></div><div style='float: left; width: 20px;height: 20px; background:#64a05a'></div><div style='float: left; width: 20px;height: 20px; background:#3a9134'></div><div style='float: left; width: 20px;height: 20px; background:#008100'></div></div>"
      ],
      "text/plain": [
       "<IPython.core.display.HTML object>"
      ]
     },
     "execution_count": 24,
     "metadata": {},
     "output_type": "execute_result"
    }
   ],
   "source": [
    "red, gray, green = [ spectra.html(x).to(\"lab\") for x in (\"red\", \"#CCC\", \"green\") ]\n",
    "polylinear_scale = spectra.Scale([ red, gray, green ])\n",
    "swatches(polylinear_scale.range(11))"
   ]
  },
  {
   "cell_type": "code",
   "execution_count": 25,
   "metadata": {
    "collapsed": true
   },
   "outputs": [],
   "source": [
    "polylinear_negpos = polylinear_scale.domain([ -1, 0, 1 ])"
   ]
  },
  {
   "cell_type": "code",
   "execution_count": 26,
   "metadata": {
    "collapsed": false
   },
   "outputs": [
    {
     "data": {
      "text/html": [
       "<div style='width: 400px; overflow:auto;'><div style='float: left; width: 20px;height: 20px; background:#f85b3c'></div><div style='float: left; width: 20px;height: 20px; background:#aabea5'></div><div style='float: left; width: 20px;height: 20px; background:#008100'></div></div>"
      ],
      "text/plain": [
       "<IPython.core.display.HTML object>"
      ]
     },
     "execution_count": 26,
     "metadata": {},
     "output_type": "execute_result"
    }
   ],
   "source": [
    "swatches([\n",
    "    polylinear_negpos(-0.75),\n",
    "    polylinear_negpos(0.2),\n",
    "    polylinear_negpos(1)\n",
    "])"
   ]
  },
  {
   "cell_type": "markdown",
   "metadata": {},
   "source": [
    "## Feedback / Questions\n",
    "\n",
    "Much appreciated! Please [open an issue](https://github.com/jsvine/spectra/issues) on the [`spectra` GitHub page](https://github.com/jsvine/spectra)."
   ]
  },
  {
   "cell_type": "markdown",
   "metadata": {},
   "source": [
    "---\n",
    "\n",
    "---\n",
    "\n",
    "---"
   ]
  }
 ],
 "metadata": {
  "kernelspec": {
   "display_name": "Python 2",
   "language": "python",
   "name": "python2"
  },
  "language_info": {
   "codemirror_mode": {
    "name": "ipython",
    "version": 2
   },
   "file_extension": ".py",
   "mimetype": "text/x-python",
   "name": "python",
   "nbconvert_exporter": "python",
   "pygments_lexer": "ipython2",
   "version": "2.7.9"
  }
 },
 "nbformat": 4,
 "nbformat_minor": 0
}
